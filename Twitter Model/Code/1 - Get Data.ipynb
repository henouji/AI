{
 "cells": [
  {
   "cell_type": "code",
   "execution_count": 1,
   "metadata": {
    "application/vnd.databricks.v1+cell": {
     "cellMetadata": {
      "byteLimit": 2048000,
      "rowLimit": 10000
     },
     "inputWidgets": {},
     "nuid": "19019bae-5fbd-4f93-a0f1-f0f8923b727d",
     "showTitle": false,
     "title": ""
    }
   },
   "outputs": [
    {
     "name": "stdout",
     "output_type": "stream",
     "text": [
      "The history saving thread hit an unexpected error (OperationalError('attempt to write a readonly database')).History will not be written to the database.\n"
     ]
    }
   ],
   "source": [
    "import tweepy\n",
    "\n",
    "consumer_key = \"l6JQsW7sOWLkLoVwO1yd8M6Tc\"\n",
    "consumer_secret = \"vosVMv9f1NCqWzAqhps196HsQ8b6pEq5fOvORhsrdIsOuVLUgq\"\n",
    "\n",
    "access_token = \"2418994422-fRrZraT7uhjZkblTr7vVYsNbYi8HonJ9vNW0QIx\"\n",
    "access_token_secret = \"viBpgBOM7VlXj91UFH7lQWKuaWtgIOyqYrfdV6o7ona7i\"\n",
    "\n",
    "auth = tweepy.OAuth1UserHandler(\n",
    "   consumer_key, consumer_secret, access_token, access_token_secret\n",
    ")\n",
    "\n",
    "api = tweepy.API(auth)\n",
    "\n",
    "user = \"henouji\""
   ]
  },
  {
   "cell_type": "code",
   "execution_count": 19,
   "metadata": {
    "application/vnd.databricks.v1+cell": {
     "cellMetadata": {
      "byteLimit": 2048000,
      "rowLimit": 10000
     },
     "inputWidgets": {},
     "nuid": "b863ff41-ec6e-4e1a-bc83-2f9e0828266d",
     "showTitle": false,
     "title": ""
    }
   },
   "outputs": [
    {
     "name": "stdout",
     "output_type": "stream",
     "text": [
      "Current count: 44\n",
      "Current count: 80\n",
      "Current count: 120\n",
      "Current count: 152\n",
      "Current count: 170\n",
      "Current count: 173\n",
      "Current count: 201\n",
      "Current count: 242\n",
      "Current count: 291\n",
      "Current count: 329\n",
      "Current count: 376\n",
      "Current count: 420\n",
      "Current count: 470\n",
      "Current count: 514\n",
      "Current count: 554\n",
      "Current count: 600\n",
      "Current count: 621\n"
     ]
    }
   ],
   "source": [
    "all_tweets = []\n",
    "oldId = 1634556394677604352\n",
    "while len(all_tweets) < 10000:\n",
    "    current = []\n",
    "    for i in api.user_timeline(count=50, max_id=oldId-1, include_rts=False, exclude_replies=True, tweet_mode='extended'):\n",
    "        current.append({\n",
    "            \"text\": i.full_text,\n",
    "            \"id\": i.id\n",
    "        })\n",
    "    all_tweets.extend(current)\n",
    "    if len(current) == 0:\n",
    "        break\n",
    "    print(f\"Current count: {len(all_tweets)}\")\n",
    "    oldId = i.id"
   ]
  },
  {
   "cell_type": "code",
   "execution_count": 20,
   "metadata": {
    "application/vnd.databricks.v1+cell": {
     "cellMetadata": {
      "byteLimit": 2048000,
      "rowLimit": 10000
     },
     "inputWidgets": {},
     "nuid": "d924b428-9563-449a-9201-634d3accace5",
     "showTitle": false,
     "title": ""
    }
   },
   "outputs": [
    {
     "name": "stdout",
     "output_type": "stream",
     "text": [
      "                                                text                   id\n",
      "0                      Will create LLM for my tweets  1633794532637818882\n",
      "1             Salamat sa disappointment @greyunitato  1631715791140966400\n",
      "2                   Salamat sa laging pag disappoint  1631715700271386624\n",
      "3                                 2 am still no sign  1631715655711096833\n",
      "4  The usual. Nakalimutan na may jowa. Thank you....  1631715318820384768\n"
     ]
    }
   ],
   "source": [
    "import pandas as pd\n",
    "\n",
    "df = pd.DataFrame.from_dict(all_tweets)\n",
    "print(df.head())"
   ]
  },
  {
   "cell_type": "code",
   "execution_count": 24,
   "metadata": {},
   "outputs": [],
   "source": [
    "df.to_csv(r'../Data/Tweets.csv')"
   ]
  }
 ],
 "metadata": {
  "application/vnd.databricks.v1+notebook": {
   "dashboards": [],
   "language": "python",
   "notebookMetadata": {
    "pythonIndentUnit": 4
   },
   "notebookName": "1 - Get Data",
   "notebookOrigID": 1368418305255679,
   "widgets": {}
  },
  "kernelspec": {
   "display_name": "Python 3 (ipykernel)",
   "language": "python",
   "name": "python3"
  },
  "language_info": {
   "codemirror_mode": {
    "name": "ipython",
    "version": 3
   },
   "file_extension": ".py",
   "mimetype": "text/x-python",
   "name": "python",
   "nbconvert_exporter": "python",
   "pygments_lexer": "ipython3",
   "version": "3.8.10"
  }
 },
 "nbformat": 4,
 "nbformat_minor": 0
}
